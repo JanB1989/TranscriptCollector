{
 "cells": [
  {
   "cell_type": "code",
   "execution_count": 30,
   "id": "600e1425-70e3-4916-bbca-03111e2cf3ca",
   "metadata": {
    "tags": []
   },
   "outputs": [
    {
     "name": "stdout",
     "output_type": "stream",
     "text": [
      "Assumed role successfully!\n"
     ]
    }
   ],
   "source": [
    "import boto3\n",
    "import json\n",
    "from concurrent.futures import ThreadPoolExecutor, as_completed\n",
    "\n",
    "# CDK created role which has access to lambda/dynamodb/s3. Copy paste the role from cdk deploy terminal output\n",
    "role_arn = \"arn:aws:iam::736551082663:role/TranscriptCollectorProjec-SageMakerAccessRole9107AB-ndEtKQgg84zA\"\n",
    "session_name = \"SageMakerSession\"\n",
    "\n",
    "# Create an STS client and assume the role\n",
    "sts_client = boto3.client('sts')\n",
    "assumed_role_object = sts_client.assume_role(\n",
    "    RoleArn=role_arn,\n",
    "    RoleSessionName=session_name\n",
    ")\n",
    "\n",
    "# Get temporary credentials and create a new session using the assumed role credentials\n",
    "credentials = assumed_role_object['Credentials']\n",
    "session = boto3.Session(\n",
    "    aws_access_key_id=credentials['AccessKeyId'],\n",
    "    aws_secret_access_key=credentials['SecretAccessKey'],\n",
    "    aws_session_token=credentials['SessionToken'],\n",
    "    region_name='eu-central-1'\n",
    ")\n",
    "\n",
    "print(\"Assumed role successfully!\")"
   ]
  },
  {
   "cell_type": "code",
   "execution_count": 31,
   "id": "960ecc79-5525-4226-8b7d-1d4d68181b3d",
   "metadata": {
    "tags": []
   },
   "outputs": [],
   "source": [
    "# Run lambda invocations in paralell (for stage production\n",
    "lambda_client = session.client('lambda')\n",
    "\n",
    "def invoke_lambda(url):\n",
    "    payload = {\"video_url\": url}\n",
    "    response = lambda_client.invoke(\n",
    "        FunctionName='TranscriptCollectorFunction-production',\n",
    "        InvocationType='RequestResponse',  # Change to 'Event' for async invocation\n",
    "        Payload=json.dumps(payload)\n",
    "    )\n",
    "    response_payload = json.loads(response['Payload'].read().decode('utf-8'))\n",
    "    return response_payload\n",
    "\n",
    "def main(urls):\n",
    "    results = []\n",
    "    with ThreadPoolExecutor(max_workers=10) as executor:\n",
    "        future_to_url = {executor.submit(invoke_lambda, url): url for url in urls}\n",
    "        for future in as_completed(future_to_url):\n",
    "            result = future.result()\n",
    "            results.append(result)\n",
    "    return results"
   ]
  },
  {
   "cell_type": "code",
   "execution_count": 32,
   "id": "6b3b4a73-cdc4-4fbc-bb9b-001465c8c001",
   "metadata": {
    "tags": []
   },
   "outputs": [
    {
     "name": "stdout",
     "output_type": "stream",
     "text": [
      "Channel name: Primitive Technology\n",
      "Total videos: 80\n"
     ]
    }
   ],
   "source": [
    "import random\n",
    "from pytubefix import Channel\n",
    "\n",
    "# c = Channel(\"https://www.youtube.com/@baldandbankrupt\")\n",
    "# c = Channel(\"https://www.youtube.com/@ArtosisCasts\")\n",
    "c = Channel(\"https://www.youtube.com/@primitivetechnology9550\")\n",
    "\n",
    "print(f'Channel name: {c.channel_name}')\n",
    "print(f'Total videos: {len(c.videos)}')\n",
    "\n",
    "def construct_video_url(video_id):\n",
    "    return f'https://youtube.com/watch?v={video_id}'\n",
    "\n",
    "# video_urls = [construct_video_url(video.video_id) for video in c.videos[200:300]]\n",
    "video_urls = [construct_video_url(video.video_id) for video in c.videos]\n",
    "\n",
    "\n",
    "results = main(video_urls)\n"
   ]
  },
  {
   "cell_type": "code",
   "execution_count": null,
   "id": "6b86c242-ca65-49c7-8d53-3e68342659cf",
   "metadata": {},
   "outputs": [],
   "source": []
  }
 ],
 "metadata": {
  "kernelspec": {
   "display_name": "Python 3 (ipykernel)",
   "language": "python",
   "name": "python3"
  },
  "language_info": {
   "codemirror_mode": {
    "name": "ipython",
    "version": 3
   },
   "file_extension": ".py",
   "mimetype": "text/x-python",
   "name": "python",
   "nbconvert_exporter": "python",
   "pygments_lexer": "ipython3",
   "version": "3.10.8"
  }
 },
 "nbformat": 4,
 "nbformat_minor": 5
}
